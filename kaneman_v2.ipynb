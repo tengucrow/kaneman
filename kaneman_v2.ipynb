{
 "cells": [
  {
   "cell_type": "code",
   "execution_count": 1,
   "id": "5e4dbcd2",
   "metadata": {},
   "outputs": [],
   "source": [
    "i = 1 # количество белых шаров на 1 красный\n",
    "Pb = i / (i + 1) # вероятность вытащить белый шар\n",
    "Pk = 1 - Pb # вероятность вытащить красный шар"
   ]
  },
  {
   "cell_type": "code",
   "execution_count": 2,
   "id": "9a7c2f35",
   "metadata": {},
   "outputs": [
    {
     "name": "stdout",
     "output_type": "stream",
     "text": [
      "0.125\n"
     ]
    }
   ],
   "source": [
    "n = 4\n",
    "Eb = Pb ** n # для 4 белых шаров\n",
    "Ek = Pk ** n # для 4 красных шаров\n",
    "E4 = Eb + Ek # экстремум\n",
    "print(E4)"
   ]
  },
  {
   "cell_type": "code",
   "execution_count": 3,
   "id": "60145f1a-c260-4833-875c-d275d1ad0718",
   "metadata": {},
   "outputs": [
    {
     "name": "stdout",
     "output_type": "stream",
     "text": [
      "0.015625\n"
     ]
    }
   ],
   "source": [
    "n = 7\n",
    "Eb = Pb ** n # для 4 белых шаров\n",
    "Ek = Pk ** n # для 4 красных шаров\n",
    "E7 = Eb + Ek # экстремум\n",
    "print(E7)"
   ]
  },
  {
   "cell_type": "code",
   "execution_count": 4,
   "id": "b07c3c6b",
   "metadata": {},
   "outputs": [
    {
     "name": "stdout",
     "output_type": "stream",
     "text": [
      "8.0\n"
     ]
    }
   ],
   "source": [
    "print(E4/E7)"
   ]
  },
  {
   "cell_type": "markdown",
   "id": "5773f77c",
   "metadata": {},
   "source": [
    "Однако!"
   ]
  },
  {
   "cell_type": "code",
   "execution_count": 5,
   "id": "9177f99b",
   "metadata": {},
   "outputs": [],
   "source": [
    "i = 100 # количество белых шаров на 1 красный\n",
    "Pb = i / (i + 1)\n",
    "Pk = 1 - Pb "
   ]
  },
  {
   "cell_type": "code",
   "execution_count": 6,
   "id": "e60ca1a5-8a1c-4b23-b643-92388360fed4",
   "metadata": {},
   "outputs": [
    {
     "name": "stdout",
     "output_type": "stream",
     "text": [
      "0.9609803540926196\n"
     ]
    }
   ],
   "source": [
    "n = 4\n",
    "Eb = Pb ** n # для 4 белых шаров\n",
    "Ek = Pk ** n # для 4 красных шаров\n",
    "E4 = Eb + Ek # экстремум\n",
    "print(E4)"
   ]
  },
  {
   "cell_type": "code",
   "execution_count": 7,
   "id": "6b7ac03c-3383-41ff-a305-abc5f3036853",
   "metadata": {},
   "outputs": [
    {
     "name": "stdout",
     "output_type": "stream",
     "text": [
      "0.9327180547071446\n"
     ]
    }
   ],
   "source": [
    "n = 7\n",
    "Eb = Pb ** n # для 4 белых шаров\n",
    "Ek = Pk ** n # для 4 красных шаров\n",
    "E7 = Eb + Ek # экстремум\n",
    "print(E7)"
   ]
  },
  {
   "cell_type": "code",
   "execution_count": 8,
   "id": "be597689",
   "metadata": {},
   "outputs": [
    {
     "name": "stdout",
     "output_type": "stream",
     "text": [
      "1.0303010103029997\n"
     ]
    }
   ],
   "source": [
    "print(E4/E7)"
   ]
  },
  {
   "cell_type": "code",
   "execution_count": 11,
   "id": "3c31f74f",
   "metadata": {},
   "outputs": [],
   "source": [
    "num = []\n",
    "E = []\n",
    "for i in range(1, 100):\n",
    "    num.append(i)\n",
    "    Pb = i / (i + 1)\n",
    "    Pk = 1 - Pb \n",
    "    n = 4\n",
    "    Eb = Pb ** n # для 4 белых шаров \n",
    "    Ek = Pk ** n # для 4 красных шаров\n",
    "    E4 = Eb + Ek # экстремум\n",
    "    n = 7\n",
    "    Eb = Pb ** n # для 7 белых шаров \n",
    "    Ek = Pk ** n # для 7 красных шаров\n",
    "    E7 = Eb + Ek # экстремум-7\n",
    "\n",
    "    E.append(E4/E7)\n",
    "    #print(E4, E7, E[-1])"
   ]
  },
  {
   "cell_type": "code",
   "execution_count": 12,
   "id": "58359a3f",
   "metadata": {},
   "outputs": [
    {
     "data": {
      "image/png": "[encoded data removed]",
      "text/plain": [
       "<Figure size 432x288 with 1 Axes>"
      ]
     },
     "metadata": {
      "needs_background": "light"
     },
     "output_type": "display_data"
    }
   ],
   "source": [
    "import matplotlib.pyplot as plt\n",
    "import numpy as np\n",
    "\n",
    "fig, ax = plt.subplots()\n",
    "ax.plot(num, E)\n",
    "\n",
    "ax.set(xlabel='Количество белых шаров на 1 красный', ylabel='Разброс между выборками на 4 и на 7',\n",
    "       title='По мере роста неравномерности выборки,\\nэкстремумы сходят на нет')\n",
    "ax.grid()\n",
    "\n",
    "pass"
   ]
  },
  {
   "cell_type": "code",
   "execution_count": null,
   "id": "f32d7479",
   "metadata": {},
   "outputs": [],
   "source": []
  }
 ],
 "metadata": {
  "kernelspec": {
   "display_name": "Python 3",
   "language": "python",
   "name": "python3"
  },
  "language_info": {
   "codemirror_mode": {
    "name": "ipython",
    "version": 3
   },
   "file_extension": ".py",
   "mimetype": "text/x-python",
   "name": "python",
   "nbconvert_exporter": "python",
   "pygments_lexer": "ipython3",
   "version": "3.8.6"
  }
 },
 "nbformat": 4,
 "nbformat_minor": 5
}
